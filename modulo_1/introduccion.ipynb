{
 "cells": [
  {
   "cell_type": "markdown",
   "metadata": {},
   "source": [
    "# **Introduccion al curso**\n",
    "\n",
    "---"
   ]
  },
  {
   "cell_type": "markdown",
   "metadata": {},
   "source": [
    "### **Visión general del certificado de ciberseguridad de Google**\n",
    "\n",
    "---\n"
   ]
  },
  {
   "cell_type": "markdown",
   "metadata": {},
   "source": [
    "¡Hola y bienvenido al Certificado en Ciberseguridad de Google! En este Programa, explorará el creciente campo de la ciberseguridad, aprenderá cómo la ciberseguridad es crucial para las organizaciones y las personas a las que sirven, y desarrollará habilidades relevantes para una futura carrera en este campo. Al completar los ocho cursos de este programa de certificación, se preparará para puestos de trabajo de nivel inicial en ciberseguridad, como analista de ciberseguridad, analista de seguridad y analista del centro de operaciones de seguridad (SOC). No se requiere experiencia previa en ciberseguridad para completar este programa.\n",
    "\n",
    "Entre en un campo en crecimiento\n",
    "¿Por qué hay tanta Demanda de habilidades en ciberseguridad? El mundo está experimentando una transformación digital. Cada día se amplía el acceso global a Internet, introduciendo más dispositivos, más aplicaciones y una cantidad aún mayor de datos en la World Wide Web. Como resultado, las amenazas, los riesgos y las vulnerabilidades se están expandiendo y están causando una cantidad significativa de daños a las organizaciones y a las personas. Los profesionales de la ciberseguridad están muy demandados para ayudar a mantener a salvo las organizaciones, las personas y los Datos.\n",
    "\n",
    "A lo largo del Programa, tendrá múltiples oportunidades para desarrollar sus conocimientos y habilidades en ciberseguridad. Explorará conceptos y escenarios para aprender lo que un analista de ciberseguridad de nivel básico debe saber y ser capaz de hacer para prosperar en la profesión de la ciberseguridad.\n",
    "\n",
    "Cursos del Certificado en Ciberseguridad de Google\n",
    "El Certificado en Ciberseguridad de Google consta de ocho cursos que se centran y se basan en conceptos y habilidades fundamentales relacionados con el trabajo diario de los profesionales de la ciberseguridad, incluidos los modelos y marcos de ciberseguridad fundamentales que se utilizan para mitigar los riesgos; proteger las redes y los datos; utilizar la programación para automatizar tareas; identificar y responder a los incidentes de seguridad; y comunicarse y colaborar con las partes interesadas. Además, usted aplicará lo que ha aprendido en cada curso completando proyectos de cartera que se pueden utilizar para mostrar su comprensión de los conceptos esenciales de ciberseguridad a los posibles empleadores. Los cursos del Programa son los siguientes:\n",
    "\n",
    "Fundamentos de la ciberseguridad (curso actual)\n",
    "\n",
    "Jugar sobre seguro: Gestionar los Riesgos de Seguridad\n",
    "\n",
    "Conectar y Proteger: Redes y Seguridad de red\n",
    "\n",
    "Herramientas del oficio: Linux y SQL\n",
    "\n",
    "Recursos, amenazas y vulnerabilidades\n",
    "\n",
    "Haga sonar la alarma: Detección y Respuesta\n",
    "\n",
    "Automatice las tareas de ciberseguridad con Python\n",
    "\n",
    "Póngalo en práctica: Prepárese para trabajos de c\n",
    "iberseguridad\n",
    "\n",
    "`imagen: wUDPfuuARCehSWG8hh8yGQ_391e3fca589640ff865568380c1165f1_S33G003-S33G010.png en images`\n",
    "\n",
    "Beneficios para los solicitantes de empleo\n",
    "Tras completar los ocho cursos, los graduados del Certificado en Ciberseguridad de Google tienen acceso a recursos para la búsqueda de empleo, cortesía de Google. Tendrá la oportunidad de:\n",
    "\n",
    "Elaborar su Currículum, participar en simulacros de entrevistas y recibir consejos para la búsqueda de empleo a través de Big Interview, una plataforma de entrenamiento laboral gratuita para los graduados del Programa.\n",
    "\n",
    "Mejorar su técnica de entrevista con Interview Warmup, una herramienta creada por Google pensando en los graduados del certificado. Acceda a preguntas de práctica específicas sobre ciberseguridad, transcripciones de sus respuestas y estadísticas automáticas que le ayudarán a aumentar sus habilidades y su confianza.\n",
    "\n",
    "Acceda a miles de ofertas de empleo y a asesoramiento profesional personalizado gratuito con Career Circle. (Debe ser apto para trabajar en EE.UU. para unirse)\n",
    "\n",
    "Reclame su insignia del Certificado de Ciberseguridad de Google y comparta su logro en los servicios de redes profesionales LinkedIn® para destacar entre otros candidatos ante posibles empleadores.\n",
    "\n",
    "Prepárese para el examen CompTIA Security+, la certificación líder del sector para funciones de Ciberseguridad. Obtendrá una doble credencial cuando complete tanto el Certificado de Ciberseguridad de Google como el examen CompTIA Security+.\n",
    "\n",
    "Enhorabuena por dar este primer paso para desarrollar sus habilidades para una carrera en ciberseguridad. ¡Disfrute del viaje!"
   ]
  },
  {
   "cell_type": "markdown",
   "metadata": {},
   "source": [
    "### **Bienvenida**\n",
    "\n",
    "---"
   ]
  },
  {
   "cell_type": "markdown",
   "metadata": {},
   "source": [
    "Hola, y bienvenido a Fundamentos de la Ciberseguridad, el primer curso del Certificado de Ciberseguridad de Google. ¡Ha comenzado un viaje apasionante!\n",
    "\n",
    "En este curso, aprenderá las principales responsabilidades laborales y las habilidades básicas de quienes trabajan en el campo de la ciberseguridad. Explorará los ocho dominios de seguridad del Profesional Certificado en Seguridad de los Sistemas de Información (CISSP), varios marcos y controles de seguridad, así como un modelo de seguridad fundacional denominado Tríada de confidencialidad, integridad y disponibilidad (CID). También se le presentarán algunas herramientas comunes utilizadas por los analistas de seguridad que ayudan a proteger tanto a las organizaciones como a las personas.\n",
    "\n",
    "Progreso del programa de certificación\n",
    "El programa del Certificado en Ciberseguridad de Google consta de ocho cursos. Fundamentos de la Ciberseguridad es el primer curso.\n",
    "\n",
    "`imagen: 6XSJVYkRTsirLaWjoKko0A_90d89c72d8714414a6e45aa4b219dff1_S33G003.png en images`\n",
    "\n",
    "Fundamentos\n",
    "de\n",
    " la Ciberseguridad - (curso actual) Explore la profesión de la ciberseguridad, incluidos los acontecimientos significativos que condujeron al desarrollo del campo de la ciberseguridad y su continua importancia para las operaciones de las organizaciones. Conozca las funciones y responsabilidades de la ciberseguridad a nivel de principiante.\n",
    "\n",
    "Juegue sobre seguro: Gestione los riesgos de seguridad\n",
    " - Identifique cómo los profesionales de la ciberseguridad utilizan los marcos y controles para proteger las operaciones empresariales y explore las herramientas comunes de ciberseguridad.\n",
    "\n",
    "Conectar y Proteger: Redes y Seguridad de red\n",
    " - Conozca las vulnerabilidades a nivel de red y cómo proteger las redes.\n",
    "\n",
    "Herramientas del oficio: Linux y SQL\n",
    " - Explore los conocimientos básicos de informática, incluida la comunicación con el sistema operativo Linux a través de la línea de comandos y la consulta de bases de datos con SQL.\n",
    "\n",
    "Activos, amenazas y vulnerabilidades\n",
    " - Conozca la importancia de los Controles de seguridad y el desarrollo de una mentalidad de Agente de amenaza para proteger y defender los recursos de una organización frente a diversas amenazas, riesgos y vulnerabilidades.\n",
    "\n",
    "Haga sonar la alarma: Detección y Respuesta\n",
    " - Comprenda el ciclo de vida de la respuesta ante incidentes y practique el uso de herramientas para detectar y responder a incidentes de ciberseguridad.\n",
    "\n",
    "Automatice las tareas de ciberseguridad con Python\n",
    " - Explore el lenguaje de programación Python y escriba código para automatizar las tareas de ciberseguridad.\n",
    "\n",
    "Póngalo en práctica: Prepárese para trabajos\n",
    " de ciberseguridad - Aprenda sobre clasificación de incidentes, escalado de incidentes y formas de comunicarse con las partes interesadas. Este curso cierra el Programa con consejos sobre cómo comprometerse con la comunidad de la ciberseguridad y prepararse para la búsqueda de empleo.\n",
    "\n",
    "Contenido del curso 1\n",
    "Cada curso de este programa de certificación está dividido en módulos. Puede completar los cursos a su propio ritmo, pero los desgloses de los módulos están diseñados para ayudarle a terminar todo el Certificado en Ciberseguridad de Google en unos seis meses.\n",
    "\n",
    "¿Qué está por venir? A continuación le ofrecemos un rápido resumen de los conocimientos que aprenderá en cada módulo de este curso.\n",
    "\n",
    "Módulo 1: Bienvenido al apasionante mundo de la ciberseguridad\n",
    "\n",
    "`imagen: Ke_F7c8ST46zqT3cWlESjg_0aeac6544d7c4b028c442b526ad7a5f1_FoundationsCyber-R-001-1.png en images`\n",
    "¡Comience su viaje hacia la ciberseguridad! Explorará el campo de la ciberseguridad y conocerá las responsabilidades laborales de los profesionales de la ciberseguridad.\n",
    "\n",
    "Módulo 2: La evolución de la ciberseguridad\n",
    "\n",
    "`imagen: QlZPMeJlTWG5bPoiB65HXQ_ab434e3472c14816ab45b48e82a231f1_FoundationsCyber-R-001-2.png en images`\n",
    "\n",
    "Explorará cómo las amenazas a la ciberseguridad han aparecido y evolucionado paralelamente a la adopción de las computadoras. También comprenderá cómo los ciberataques pasados y presentes han influido en el desarrollo del campo de la Seguridad. Además, obtendrá una visión general de los ocho dominios de la Seguridad.\n",
    "\n",
    "Módulo 3: Proteger contra amenazas, riesgos y vulnerabilidades\n",
    "\n",
    "`imagen: _UKSkqdPTb-Xd9B8smE8dg_d4999b46ab0344cdb1edbdc83490aef1_FoundationsCyber-R-001-3.png en images`\n",
    "\n",
    "Aprenderá acerca de los marcos y controles de Seguridad, que se utilizan para mitigar el riesgo organizativo. Cubrirá los principios de la tríada CID y varios frameworks del Instituto Nacional de Estándares y Tecnología (NIST). Además, explorará la Ética de la seguridad.\n",
    "\n",
    "Módulo 4: Herramientas de ciberseguridad y lenguajes de programación\n",
    "\n",
    "`imagen: mPui2kPMTOet2uSC5Y8mXA_98ec1eeec8a64f989970da26500232f1_FoundationsCyber-R-001-4.png en images`\n",
    "\n",
    "Descubrirá herramientas comunes utilizadas por los analistas de ciberseguridad para identificar y eliminar riesgos. Aprenderá sobre herramientas de gestión de eventos e información de seguridad (SIEM), analizadores de protocolos de red y lenguajes de programación como Python y SQL.\n",
    "\n",
    "### Qué puede esperar\n",
    "Cada curso ofrece muchos tipos de oportunidades de aprendizaje:\n",
    "\n",
    "Losvídeos dirigidos por instructores de Google enseñan nuevos conceptos, introducen el uso de herramientas relevantes, ofrecen apoyo profesional y proporcionan historias personales inspiradoras.\n",
    "\n",
    "Las lecturas se basan en los temas tratados en los vídeos, introducen conceptos relacionados, comparten recursos útiles y describen casos de éxito.\n",
    "\n",
    "Losprompt de debate exploran los temas del curso para una mejor comprensión y le permiten charlar e intercambiar ideas con otros alumnos en los \n",
    "foros de debate\n",
    ".\n",
    "\n",
    "Lasactividades de autoevaluación y los laboratorios le ofrecen práctica en la aplicación de los conocimientos que está aprendiendo y le permiten evaluar su propio trabajo comparándolo con un ejemplo finalizado.\n",
    "\n",
    "Los complementos interactivos le animan a practicar tareas específicas y le ayudan a integrar los conocimientos adquiridos en el curso.\n",
    "\n",
    "Loscuestionarios en vídeo le ayudan a comprobar su comprensión a medida que avanza en cada vídeo.\n",
    "\n",
    "Los cuestionarios depráctica le permiten comprobar su comprensión de los conceptos clave y le proporcionan valiosos comentarios.\n",
    "\n",
    "Los cuestionarioscon calificación demuestran su comprensión de los conceptos principales del curso. Debe obtener una puntuación del 80% o superior en cada cuestionario graduado para obtener un certificado, y puede realizar un cuestionario graduado varias veces para lograr una puntuación de aprobado.\n",
    "\n",
    "Consejos para el éxito\n",
    "Se recomienda encarecidamente que repase los puntos de cada lección en el orden en que aparecen, ya que la información y los conceptos nuevos se basan en los conocimientos previos.\n",
    "\n",
    "Participe en todas las oportunidades de aprendizaje para adquirir tantos conocimientos y experiencia como sea posible.\n",
    "\n",
    "Si algo le resulta confuso, no dude en volver a ver un vídeo, repasar una lectura o repetir una actividad de autoaprendizaje.\n",
    "\n",
    "Utilice los Recursos adicionales a los que se hace referencia en este curso. Están diseñados para apoyar su aprendizaje. Puede encontrar todos estos recursos en la pestaña \n",
    "Recursos\n",
    ".\n",
    "\n",
    "Cuando encuentre enlaces útiles en este curso, márquelos para poder consultar la información más adelante para estudiar o repasar.\n",
    "\n",
    "\n"
   ]
  },
  {
   "cell_type": "markdown",
   "metadata": {},
   "source": [
    "---"
   ]
  },
  {
   "cell_type": "markdown",
   "metadata": {},
   "source": [
    "# **Como funciona la IA**"
   ]
  },
  {
   "cell_type": "markdown",
   "metadata": {},
   "source": [
    "----\n"
   ]
  },
  {
   "cell_type": "markdown",
   "metadata": {},
   "source": []
  }
 ],
 "metadata": {
  "language_info": {
   "name": "python"
  }
 },
 "nbformat": 4,
 "nbformat_minor": 2
}
