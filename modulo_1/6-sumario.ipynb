{
 "cells": [
  {
   "cell_type": "markdown",
   "metadata": {},
   "source": [
    "### **Términos del glosario del Módulo 1**"
   ]
  },
  {
   "cell_type": "markdown",
   "metadata": {},
   "source": [
    "---"
   ]
  },
  {
   "cell_type": "markdown",
   "metadata": {},
   "source": [
    "##### **Términos y definiciones del Curso 1, Módulo 1**"
   ]
  },
  {
   "cell_type": "markdown",
   "metadata": {},
   "source": [
    "**Ciberseguridad (o seguridad)**: La práctica de garantizar la confidencialidad, integridad y disponibilidad de la información protegiendo las redes, los dispositivos, las personas y los datos del acceso no autorizado o de la explotación delictiva\n",
    "\n",
    "**Seguridad de la nube**: El proceso de garantizar que los recursos almacenados en la Nube están configurados correctamente y que el acceso a dichos recursos está limitado a los usuarios autorizados\n",
    "\n",
    "**Amenaza interna**: Un empleado actual o anterior, un proveedor externo o un socio de confianza que supone un riesgo para la Seguridad\n",
    "\n",
    "**Seguridad de red**: La práctica de mantener la infraestructura de red de una organización a salvo de accesos no autorizados\n",
    "\n",
    "**Información de identificación personal (PII)**: Cualquier Información utilizada para inferir la identidad de un individuo\n",
    "\n",
    "**Postura de seguridad**: La capacidad de una organización para gestionar su defensa de activos y datos críticos y reaccionar ante los cambios \n",
    "\n",
    "**Información de identificación personal sensible (SPII)**: Un tipo específico de PII que entra dentro de las directrices de manejo más estrictas\n",
    "\n",
    "**Habilidades técnicas**: Habilidades que requieren el conocimiento de herramientas, Procedimientos y políticas específicas\n",
    "\n",
    "**Amenaza**: Cualquier circunstancia o Evento que pueda impactar negativamente en los recursos\n",
    "\n",
    "**Agente de amenaza**: Cualquier persona o grupo que presente un riesgo para la Seguridad\n",
    "\n",
    "**Habilidades transferibles**: Habilidades de otras áreas que pueden aplicarse a diferentes carreras profesionales \n",
    "\n"
   ]
  },
  {
   "cell_type": "markdown",
   "metadata": {},
   "source": []
  }
 ],
 "metadata": {
  "language_info": {
   "name": "python"
  }
 },
 "nbformat": 4,
 "nbformat_minor": 2
}
