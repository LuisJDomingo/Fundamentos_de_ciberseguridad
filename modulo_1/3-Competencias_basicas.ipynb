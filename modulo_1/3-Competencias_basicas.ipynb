{
 "cells": [
  {
   "cell_type": "markdown",
   "metadata": {},
   "source": [
    "# **Competencias básicas para los profesionales de la ciberseguridad**"
   ]
  },
  {
   "cell_type": "markdown",
   "metadata": {},
   "source": [
    "---"
   ]
  },
  {
   "cell_type": "markdown",
   "metadata": {},
   "source": [
    "Para cualquier trabajo, se necesitan ciertas habilidades para tener éxito, y muchas de estas habilidades básicas se pueden transferir de un puesto a otro. Independientemente del trabajo que tenga actualmente, es probable que ya tenga muchas habilidades básicas. Tener una formación diversa mejora tus habilidades básicas, lo que significa que tus experiencias y perspectivas personales son especialmente valiosas. \n",
    "\n",
    "En este vídeo, analizaremos las habilidades técnicas y transferibles que son particularmente útiles para un analista de Seguridad. \n",
    "\n",
    "Las habilidades transferibles son habilidades de otras áreas que pueden aplicarse a diferentes carreras. Habilidades técnicas también pueden aplicarse a varias profesiones. Sin embargo, a veces pueden requerir el conocimiento de herramientas, procedimientos y políticas específicas. \n",
    "\n",
    "Analicemos algunas habilidades transferibles básicas que quizás ya poseas y que te beneficiarán en una carrera como analista de Seguridad. \n",
    "\n",
    "La Comunicación es una habilidad transferible para un analista de Seguridad. A menudo tendrán que describir ciertas amenazas, riesgos o vulnerabilidades a personas que tal vez no tengan conocimientos técnicos. Por ejemplo, a los analistas de Seguridad se les puede encomendar la tarea de interpretar y comunicar las políticas y procedimientos a otros empleados. O se les puede pedir a los analistas que informen sobre los hallazgos a sus supervisores, de modo que se puedan tomar las medidas apropiadas para proteger la organización. Otra habilidad transferible es la colaboración, los analistas de seguridad suelen trabajar en equipo con ingenieros , investigadores forenses digitales y administradores de programas. Por ejemplo, si estás trabajando para implementar una nueva función de Seguridad, es probable que tengas un jefe de proyecto, un ingeniero y un hacker ético en tu equipo. \n",
    "\n",
    "Los analistas de seguridad también deben poder analizar los escenarios complejos que puedan encontrar. Por ejemplo, es posible que un analista de seguridad deba hacer recomendaciones sobre cómo las diferentes herramientas pueden respaldar la eficiencia y proteger la red interna de una organización. \n",
    "\n",
    "La última habilidad transferible de la que hablaremos es la resolución de problemas. Identificar un problema de seguridad y, a continuación, diagnosticarlo y ofrecer soluciones es una habilidad necesaria para mantener seguras las operaciones empresariales. \n",
    "\n",
    "Comprender a los actores de las amenazas e identificar las tendencias puede proporcionar estadísticas sobre cómo gestionar las amenazas futuras. \n",
    "\n",
    "Bien, ahora que hemos cubierto algunas habilidades transferibles importantes, analicemos algunas habilidades técnicas que los analistas de Seguridad necesitan desarrollar. \n",
    "\n",
    "Es importante desarrollar una comprensión básica de los lenguajes de programación, ya que los analistas de Seguridad pueden usar la programación para automatizar las tareas e identificar los mensajes de error. \n",
    "\n",
    "Al igual que aprender cualquier otro idioma, aprender un lenguaje de programación puede parecer difícil al principio. Sin embargo, este programa de certificación no supone ninguna experiencia previa en programación, por lo que comenzaremos desde el principio y proporcionaremos varias oportunidades para practicar lenguajes como Python y SQL. \n",
    "\n",
    "Otra habilidad técnica importante es saber cómo usar las herramientas de administración de información y eventos de seguridad, o SIEM. Los profesionales de la seguridad utilizan las herramientas de SIEM para identificar y analizar las amenazas, los riesgos y las vulnerabilidades de seguridad. Por ejemplo, una herramienta SIEM puede avisarle de que un usuario desconocido ha accedido al sistema. En caso de que un usuario desconocido acceda al sistema, puede utilizar el análisis forense de la computadora para investigar el incidente. \n",
    "\n",
    "Ahora, hablemos de la informática forense. Al igual que un investigador y un científico forense que trabajan en el sistema de justicia penal, los investigadores forenses digitales intentarán identificar, analizar y preservar la evidencia criminal dentro de redes , computadoras y dispositivos electrónicos. Ten en cuenta que es posible que ya tengas algunas de las habilidades básicas que hemos analizado. Y si no tienes las habilidades técnicas, ¡está bien! Este programa está diseñado para ayudarlo a aprender esas habilidades. Por ejemplo, durante los últimos siete años trabajando en ciberseguridad, he aprendido que los analistas de seguridad deben tener curiosidad intelectual y la motivación para seguir aprendiendo para tener éxito. Personalmente, dedico tiempo de forma regular a aprender más habilidades de Python y SQL para satisfacer las demandas de los proyectos en los que estoy trabajando. Aprenderás sobre Python y SQL más adelante en este programa. A medida que continúe este viaje, adquirirá los conocimientos y las habilidades que necesita para ingresar al campo de la Seguridad."
   ]
  },
  {
   "cell_type": "markdown",
   "metadata": {},
   "source": []
  }
 ],
 "metadata": {
  "language_info": {
   "name": "python"
  }
 },
 "nbformat": 4,
 "nbformat_minor": 2
}
