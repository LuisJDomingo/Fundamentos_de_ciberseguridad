{
 "cells": [
  {
   "cell_type": "markdown",
   "metadata": {},
   "source": [
    "# **Terminología común sobre ciberseguridad**"
   ]
  },
  {
   "cell_type": "markdown",
   "metadata": {},
   "source": [
    "---"
   ]
  },
  {
   "cell_type": "markdown",
   "metadata": {},
   "source": [
    "**La Ciberseguridad** (también conocida como seguridad) es la práctica de garantizar la confidencialidad, integridad y disponibilidad de la información protegiendo las redes, los dispositivos, las personas y los datos de accesos no autorizados o de la explotación criminal. En esta lectura, se le presentarán algunos términos clave utilizados en la profesión de la ciberseguridad. A continuación, se le proporcionará un recurso útil para mantenerse informado sobre los cambios en la terminología de la ciberseguridad."
   ]
  },
  {
   "cell_type": "markdown",
   "metadata": {},
   "source": [
    "### **Términos y conceptos clave de la ciberseguridad**\n"
   ]
  },
  {
   "cell_type": "markdown",
   "metadata": {},
   "source": [
    "Hay muchos términos y conceptos que es importante que onozcan los profesionales de la Seguridad. Estar familiarizado con ellos puede ayudarle a identificar mejor las amenazas que pueden dañar tanto a las organizaciones como a las personas. Un analista de seguridad o analista de ciberseguridad se centra en supervisar las redes en busca de infracciones. También ayudan a desarrollar estrategias para asegurar una organización e investigan las tendencias de seguridad de la tecnología de la información (TI) para mantenerse alerta e informado sobre las amenazas potenciales. Además, un analista trabaja para prevenir incidentes. Para que los analistas puedan realizar eficazmente este tipo de tareas, necesitan desarrollar conocimientos sobre los siguientes conceptos clave."
   ]
  },
  {
   "cell_type": "markdown",
   "metadata": {},
   "source": [
    "**Cumplimiento normativo** es el proceso de adhesión a los Estándares internos y Regulaciones externas y permite a las organizaciones evitar multas y violaciones de la Seguridad.\n",
    "\n",
    "Los **marcos de seguridad** son directrices utilizadas para elaborar planes que ayuden a mitigar los riesgos y las amenazas para los datos y la privacidad.\n",
    "\n",
    "**Controles** de seguridad son salvaguardas diseñadas para reducir riesgos de Seguridad específicos. Se utilizan con los marcos de seguridad para establecer una postura de Seguridad fuerte.\n",
    "\n",
    "**Postura de seguridad** es la capacidad de una organización para gestionar su defensa de activos y datos críticos y reaccionar ante los cambios. Una postura de seguridad fuerte conlleva un menor Riesgo para la organización.\n",
    "\n",
    "Un **Agente de amenaza**, o atacante malicioso, es cualquier persona o grupo que presenta un riesgo para la Seguridad. Este riesgo puede estar relacionado con computadoras, aplicaciones, redes y datos.\n",
    "\n",
    "Una **amenaza interna** puede ser un empleado actual o antiguo, un proveedor externo o un socio de confianza que suponga un riesgo para la Seguridad. A veces, una amenaza interna es accidental. Por ejemplo, un empleado que haga clic accidentalmente en un enlace de correo electrónico malicioso se consideraría una amenaza accidental. Otras veces, el actor de la amenaza interna se involucra intencionadamente en actividades de riesgo, como el acceso no autorizado a los datos.\n",
    "\n",
    "**Seguridad de red** es la práctica de mantener la infraestructura de red de una organización a salvo de accesos no autorizados. Esto incluye datos, servicios, sistemas y dispositivos que se almacenan en la red de una organización.\n",
    "\n",
    "**Seguridad de la nube** es el proceso de garantizar que los activos almacenados en la nube están correctamente configurados, o establecidos, y que el acceso a esos activos está limitado a los usuarios autorizados. La nube es una red formada por un conjunto de servidores u ordenadores que almacenan recursos y datos en ubicaciones físicas remotas conocidas como centros de datos a los que se puede acceder a través de Internet. La Seguridad de la nube es un subcampo creciente de la Ciberseguridad que se centra específicamente en la protección de los datos, las aplicaciones y la infraestructura en la nube.\n",
    "\n",
    "La **programación** es un proceso que puede utilizarse para crear un conjunto específico de instrucciones para que una computadora ejecute tareas. Estas tareas pueden incluir:\n",
    "\n",
    "- Automatización de tareas repetitivas (por ejemplo, buscar en una Lista de dominios maliciosos)\n",
    "\n",
    "- Revisión del tráfico web\n",
    "\n",
    "- Alerta de actividades sospechosas"
   ]
  },
  {
   "cell_type": "markdown",
   "metadata": {},
   "source": [
    "### **Puntos clave**"
   ]
  },
  {
   "cell_type": "markdown",
   "metadata": {},
   "source": [
    "\n",
    "Comprender los términos y conceptos técnicos clave utilizados en el Campo de la Seguridad le ayudará a prepararse para su función como analista de seguridad. Conocer estos términos puede ayudarle a identificar amenazas, riesgos y vulnerabilidades comunes. Para explorar una variedad de términos de ciberseguridad, visite [el glosario del Instituto Nacional de Estándares y Tecnología](https://csrc.nist.gov/glossary). O utilice su navegador para buscar glosarios de ciberseguridad fiables y de alta calidad de institutos de investigación o autoridades gubernamentales. Los glosarios están disponibles en varios idiomas. "
   ]
  },
  {
   "cell_type": "markdown",
   "metadata": {},
   "source": []
  }
 ],
 "metadata": {
  "language_info": {
   "name": "python"
  }
 },
 "nbformat": 4,
 "nbformat_minor": 2
}
