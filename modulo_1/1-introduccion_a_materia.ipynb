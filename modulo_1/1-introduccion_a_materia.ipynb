{
 "cells": [
  {
   "cell_type": "markdown",
   "metadata": {},
   "source": [
    "Imagina que te estás preparando para una tormenta. Has recibido una notificación de que se acerca una tormenta. Usted se prepara reuniendo las herramientas y los materiales que necesitará para mantenerse a salvo. Asegúrate de que tus ventanas y puertas estén seguras. Reúnes un botiquín de primeros auxilios, herramientas, comida y agua. Estás preparado.\n",
    "\n",
    "Llega la tormenta y hay fuertes vientos y fuertes lluvias. La tormenta está usando su fuerza para intentar abrir una brecha en su casa. Observa algunas fugas de agua y comienza a repararlas rápidamente para minimizar cualquier riesgo o daño potencial. La gestión de un incidente de seguridad no es diferente. Las organizaciones deben prepararse para la tormenta asegurándose de que tienen las herramientas para mitigar y responder rápidamente a las amenazas externas. El objetivo es minimizar el riesgo y los posibles daños.\n",
    "\n",
    "Como analista de seguridad, trabajarás para proteger a tu organización y a las personas a las que prestas servicio de una variedad de riesgos y amenazas externas. Y si una amenaza llega, tú y tu equipo ofreceréis una solución para remediar la situación. Para ayudarte a comprender mejor lo que esto significa, definiremos la seguridad y analizaremos las funciones de los profesionales de la seguridad en las organizaciones.\n",
    "\n",
    "Empecemos con algunas definiciones:\n",
    "\n",
    "**La ciberseguridad**, o seguridad, es la práctica de garantizar la confidencialidad, la integridad y la disponibilidad de la información mediante la protección de las redes, los dispositivos, las personas y los datos contra el acceso no autorizado o la explotación delictiva. Por ejemplo, exigir contraseñas complejas para acceder a sitios y servicios mejora la confidencialidad al hacer que sea mucho más difícil para un actor de amenazas comprometerlos. Un **actor de amenazas** es cualquier persona o grupo que presenta un riesgo de seguridad.\n",
    "\n",
    "Ahora que conoces la definición de seguridad, analicemos lo que hacen los equipos de seguridad para una organización. La seguridad protege contra las amenazas externas e internas:\n",
    "\n",
    "- **Una amenaza externa** es una persona ajena a la organización que intenta acceder a información, redes o dispositivos privados.\n",
    "- **Una amenaza interna** proviene de empleados actuales o anteriores, proveedores externos o socios de confianza. A menudo, estas amenazas internas son accidentales, como cuando un empleado hace clic en un enlace comprometido de un correo electrónico. Otras veces, el actor interno participa intencionalmente en actividades como el acceso no autorizado a los datos o el abuso de los sistemas para uso personal. Los profesionales de seguridad con experiencia ayudarán a las organizaciones a mitigar o reducir el impacto de amenazas como estas.\n",
    "\n",
    "Los equipos de seguridad también se aseguran de que una organización cumpla con la normativa, o con las leyes y directrices, que requieren la implementación de estándares de seguridad específicos. Garantizar que las organizaciones cumplan con las normas puede permitirles evitar multas y auditorías y, al mismo tiempo, cumplir con su obligación ética de proteger a los usuarios. \n",
    "\n",
    "Además, los equipos de seguridad mantienen y mejoran la productividad empresarial. Al establecer un plan para la continuidad del negocio, los equipos de seguridad permiten a las personas hacer su trabajo, incluso en el caso de una violación de datos. Ser consciente de la seguridad también puede reducir los gastos asociados con los riesgos, como la recuperación de la pérdida de datos o el tiempo de inactividad operativo, y, potencialmente, evitar multas.\n",
    "\n",
    "El último beneficio de la seguridad del que hablaremos es el mantenimiento de la confianza en la marca. Si los servicios o los datos de los clientes se ven comprometidos, esto puede reducir la confianza en la organización, dañar la marca y perjudicar a la empresa a largo plazo. La pérdida de la confianza de los clientes también puede generar menos ingresos para la empresa.\n",
    "\n",
    "Ahora, repasemos algunas funciones comunes basadas en la seguridad. Después de completar este programa de certificación, estos son algunos títulos de trabajo que quizás desees buscar:\n",
    "\n",
    "- Analista o especialista en seguridad\n",
    "- Analista o especialista en ciberseguridad\n",
    "- Analista de centro de operaciones de seguridad (SOC)\n",
    "- Analista de seguridad de la información\n",
    "\n",
    "También obtendrás más información sobre las responsabilidades asociadas con algunos de estos títulos de trabajo más adelante en el programa.\n",
    "\n",
    "Como ya se habrá dado cuenta, el campo de la seguridad incluye muchos temas y conceptos, y cada actividad que completes en este programa lo acerca un paso más a un nuevo trabajo. Sigamos aprendiendo juntos.\n"
   ]
  },
  {
   "cell_type": "markdown",
   "metadata": {},
   "source": [
    "### Responsabilidades de un analista de ciberseguridad de nivel inicial"
   ]
  },
  {
   "cell_type": "markdown",
   "metadata": {},
   "source": [
    "La tecnología está cambiando rápidamente y también lo hacen las tácticas y técnicas que utilizan los atacantes. \n",
    "\n",
    "A medida que evoluciona la infraestructura digital, se espera que los profesionales de la seguridad aumenten continuamente sus habilidades para proteger y asegurar la información sensible. \n",
    "\n",
    "En este vídeo, hablaremos de algunas responsabilidades laborales de un analista de seguridad de nivel básico. \n",
    "\n",
    "> **¿Qué hacen los analistas de seguridad?** Los analistas de seguridad son responsables de vigilar y proteger la información y los sistemas. \n",
    "\n",
    "A continuación, hablaremos de tres responsabilidades principales de un analista de seguridad, empezando por proteger los sistemas informáticos y de redes. Proteger los sistemas informáticos y de red requiere que un analista supervise la red interna de una organización. Si se detecta una amenaza, entonces un analista suele ser el primero en responder. \n",
    "\n",
    "Los analistas también suelen participar en ejercicios para buscar debilidades en los propios sistemas de una organización. Por ejemplo, un analista de seguridad puede contribuir a las pruebas de penetración o al hacking ético. El objetivo es penetrar o hackear la red interna de su propia organización para identificar vulnerabilidades y sugerir formas de reforzar sus medidas de seguridad. Piénselo así. Después de cerrar el coche con llave, comprueba las manillas de las puertas para asegurarse de que nadie puede acceder a los objetos de valor que guarda dentro. Los analistas de seguridad también trabajan de forma proactiva para evitar que se produzcan amenazas en primer lugar. Una forma de hacerlo es trabajando con equipos de **tecnología de la información**, o **TI**, para instalar software de prevención con el fin de identificar riesgos y vulnerabilidades. Los analistas también pueden participar en el desarrollo de software y hardware. A menudo trabajarán con equipos de desarrollo para apoyar la seguridad de los productos estableciendo procesos y sistemas adecuados para satisfacer las necesidades de protección de datos de la organización. La última tarea que trataremos es realizar auditorías de seguridad periódicas. Una auditoría de seguridad es una revisión de los registros de seguridad de una organización, actividades y otros documentos relacionados. Por ejemplo, un analista puede examinar problemas de seguridad internos, como asegurarse de que la información confidencial, como las contraseñas individuales de las computadoras, no está disponible para todos los empleados. \n",
    "\n",
    "¡Uf, eso fue mucho que cubrir! Pero esperemos que tenga una idea general de lo que hacen los analistas de seguridad de nivel básico en el día a día. Los analistas de seguridad son una parte importante de cualquier organización. Sus tareas diarias protegen a pequeñas empresas, grandes compañías, organizaciones sin ánimo de lucro y organismos gubernamentales. También ayudan a garantizar que las personas a las que sirven esas organizaciones permanezcan seguras."
   ]
  },
  {
   "cell_type": "markdown",
   "metadata": {},
   "source": []
  }
 ],
 "metadata": {
  "language_info": {
   "name": "python"
  }
 },
 "nbformat": 4,
 "nbformat_minor": 2
}
