{
 "cells": [
  {
   "cell_type": "markdown",
   "metadata": {},
   "source": [
    "### **La importancia de la ciberseguridad**"
   ]
  },
  {
   "cell_type": "markdown",
   "metadata": {},
   "source": [
    "Como hemos comentado, los profesionales de Seguridad protegen muchos activos físicos y digitales. Las organizaciones y entidades gubernamentales desean estas habilidades porque es necesario gestionar el riesgo. Sigamos discutiendo por qué es importante la Seguridad. \n",
    "\n",
    "La seguridad es esencial para garantizar la continuidad empresarial y la posición ética de una organización. El mantenimiento de la Seguridad de una organización tiene implicaciones legales y consideraciones morales. Una violación de datos, por ejemplo, afecta a todos los miembros de la organización. Esto se debe a que las pérdidas o filtraciones de datos pueden afectar a la reputación de una organización , así como a la vida y la reputación de sus usuarios y clientes. Al mantener medidas de Seguridad sólidas, las organizaciones pueden aumentar la confianza de los usuarios. Esto puede conducir a un crecimiento financiero y a referencias comerciales continuas. Como se mencionó anteriormente, las organizaciones no son las únicas que sufren una violación de datos. Mantener y proteger los datos de los usuarios, clientes y proveedores es una parte importante de la prevención de incidentes que puedan exponer la información de identificación personal de las personas. La información de **identificación personal**, conocida como **PII**, es cualquier información que se utiliza para deducir la identidad de una persona. La PII incluye el nombre completo, la fecha de nacimiento, la dirección física, el número de teléfono, la dirección de correo electrónico, el protocolo de Internet o la dirección IP de una persona e información similar. La información de **identificación personal confidencial**, conocida como **SPII**, es un tipo específico de PII que se rige por pautas de manejo más estrictas y puede incluir números de Seguridad Social, información médica o financiera y datos biométricos, como el reconocimiento facial. Si se roba la PII, esto tiene el potencial de ser significativamente más perjudicial para una persona que si se roba la PII. Los datos de **PII** y **SPII** son activos clave que un actor de amenazas buscará si una organización sufre una violación. Cuando la información identificable de una persona se ve comprometida, filtrada o robada, el robo de identidad es la principal preocupación. El robo de identidad es el acto de robar información personal para cometer fraude mientras se hace pasar por una víctima. Y el objetivo principal del robo de identidad es obtener ganancias financieras. \n",
    "\n",
    "Hemos analizado varios motivos por los que la Seguridad es importante. Los empleadores necesitan analistas de Seguridad como usted para satisfacer la demanda actual y futura de proteger los datos, los productos y las personas y, al mismo tiempo, garantizar la confidencialidad, la integridad y el acceso seguro a la información. Es por eso que la Oficina de Estadísticas Laborales de los Estados Unidos espera que la demanda de profesionales de Seguridad crezca más de un 30% para el año 2030. Así que sigue aprendiendo y, con el tiempo, ¡podrás hacer tu parte para crear un entorno más seguro y protegido tanto para las organizaciones como para las personas!"
   ]
  },
  {
   "cell_type": "markdown",
   "metadata": {},
   "source": [
    "### **El valor de la ciberseguridad**"
   ]
  },
  {
   "cell_type": "markdown",
   "metadata": {},
   "source": [
    "Ahora que ha aprendido qué es la ciberseguridad y cómo los profesionales de la ciberseguridad protegen a las personas y a las organizaciones, es el momento de considerar su propio papel en la ciberseguridad. Imagine que es su primer día como profesional de la ciberseguridad y considere lo siguiente:\n",
    "\n",
    "- ¿Qué problemas de ciberseguridad está resolviendo?\n",
    "\n",
    "- ¿Cómo está protegiendo a su organización?\n",
    "\n",
    "- ¿Cómo está protegiendo a las personas?\n",
    "\n",
    "- ¿Qué es lo más emocionante de su día?\n",
    "\n",
    "Escriba uno o dos párrafos (de 100 a 200 palabras) en los que exponga sus respuestas a los prompt. A continuación, visite los \n",
    "foros de debate para leer lo que han escrito otros alumnos y responda al menos a otros dos posts con sus propias ideas."
   ]
  },
  {
   "cell_type": "markdown",
   "metadata": {},
   "source": []
  }
 ],
 "metadata": {
  "language_info": {
   "name": "python"
  }
 },
 "nbformat": 4,
 "nbformat_minor": 2
}
